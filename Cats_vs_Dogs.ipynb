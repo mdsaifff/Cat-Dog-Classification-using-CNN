{
  "nbformat": 4,
  "nbformat_minor": 0,
  "metadata": {
    "colab": {
      "name": "Cats vs Dogs.ipynb",
      "provenance": [],
      "collapsed_sections": []
    },
    "kernelspec": {
      "name": "python3",
      "display_name": "Python 3"
    },
    "language_info": {
      "name": "python"
    }
  },
  "cells": [
    {
      "cell_type": "code",
      "metadata": {
        "id": "ib91R-4_5ipx"
      },
      "source": [
        "import tensorflow as tf\n",
        "from keras.preprocessing.image import ImageDataGenerator"
      ],
      "execution_count": null,
      "outputs": []
    },
    {
      "cell_type": "code",
      "metadata": {
        "id": "5XnFJevOICDg"
      },
      "source": [
        "train_datagen=ImageDataGenerator(rescale=1./255,shear_range=0.2,zoom_range=0.2,horizontal_flip=True )\n",
        "training_set= train_datagen.flow_from_directory('data/traing_set'target_size=(64,64),batch_size=32, class_mode='binary')"
      ],
      "execution_count": null,
      "outputs": []
    },
    {
      "cell_type": "code",
      "metadata": {
        "id": "5mp9sgmy5jWo"
      },
      "source": [
        "test_datagen= ImageDataGenerator(resacle=1./255)\n",
        "test_set= test_datagen.flow_from_directory('', taget_size=(64,64), batch_size=32, class_mode='binary')"
      ],
      "execution_count": null,
      "outputs": []
    },
    {
      "cell_type": "code",
      "metadata": {
        "id": "ycEQEF-15jZO"
      },
      "source": [
        "cnn=tf.keras.models.sequential()\n",
        "cnn.add(tf.keras.layers.convo2D(filters=32, kernel_size=3, activation='relu', input_shape=[64,64,3])\n",
        "cnn.add(tf.keras.layers.maxpool2D(pool_size=2, strides=2))\n",
        "#Another_Layer\n",
        "cnn.add(tf.keras.layers.convo2D(filters=32, kernel_size=3, activation='relu'))\n",
        "cnn.add(tf.keras.layers.maxpool2D(pool_size=2, strides=2))\n",
        "cnn.add(tf.keras.layers.flatten())\n",
        "cnn.add(tf.keras.layers.Dense(units=128, activation='relu'))\n",
        "cnn.add(tf.keras.layers.Dense(units=1,activation='sigmoid'))\n",
        "\n",
        "cnn.compile(optimizer='adam', loss='binary_crossentrophy', metrices='[accuracy]')\n",
        "cnn.fit(x=training_set, validation_data= test_set, epoches=25)\n"
      ],
      "execution_count": null,
      "outputs": []
    },
    {
      "cell_type": "code",
      "metadata": {
        "id": "gsSiWEJY1BPB"
      },
      "source": [
        "import numpy as np\n",
        "from keras.preprocessing import image\n",
        "test_image = image.load_img('dataset/single_prediction/cat_or_dog_1.jpg', target_size = (64, 64))\n",
        "test_image = image.img_to_array(test_image)\n",
        "test_image = np.expand_dims(test_image, axis = 0)\n",
        "result = cnn.predict(test_image)\n",
        "training_set.class_indices\n",
        "if result[0][0] == 1:\n",
        "  prediction = 'dog'\n",
        "else:\n",
        "  prediction = 'cat'"
      ],
      "execution_count": null,
      "outputs": []
    },
    {
      "cell_type": "code",
      "metadata": {
        "id": "ED9KB3I54c1i"
      },
      "source": [
        "print(prediction)"
      ],
      "execution_count": null,
      "outputs": []
    }
  ]
}